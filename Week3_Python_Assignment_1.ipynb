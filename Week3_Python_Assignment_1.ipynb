{
 "cells": [
  {
   "cell_type": "markdown",
   "id": "eac67702-4bd6-4a07-bc32-fe0deccf7252",
   "metadata": {},
   "source": [
    "QUESTION 1"
   ]
  },
  {
   "cell_type": "raw",
   "id": "2f365748-3050-46c6-a6a5-75825b29e086",
   "metadata": {},
   "source": [
    "'def' key word is used to create a function."
   ]
  },
  {
   "cell_type": "code",
   "execution_count": 1,
   "id": "0e0b9fc8-f5c3-4044-a03d-0c3e7ddfb6c8",
   "metadata": {},
   "outputs": [],
   "source": [
    "def odd_number(n):\n",
    "    odd_number_list=[]\n",
    "    for i in range(n+1):\n",
    "        if i%2 != 0:\n",
    "            odd_number_list.append(i)\n",
    "        \n",
    "    return odd_number_list"
   ]
  },
  {
   "cell_type": "code",
   "execution_count": 2,
   "id": "cc3bc5d6-ee0e-49c2-9033-c395151d56ec",
   "metadata": {},
   "outputs": [
    {
     "data": {
      "text/plain": [
       "[1, 3, 5, 7, 9, 11, 13, 15, 17, 19, 21, 23, 25]"
      ]
     },
     "execution_count": 2,
     "metadata": {},
     "output_type": "execute_result"
    }
   ],
   "source": [
    "odd_number(25)"
   ]
  },
  {
   "cell_type": "markdown",
   "id": "f0a8acd7-d18d-4e35-933c-cd8d87346ee5",
   "metadata": {},
   "source": [
    "QUESTION 2"
   ]
  },
  {
   "cell_type": "raw",
   "id": "d6bf6beb-5ab3-41da-a0db-87dee86a1112",
   "metadata": {},
   "source": [
    "*args and **kwargs are used to pass unfixed number of parameter in a function.\n",
    "*args takes variable length of input and return as tuple.\n",
    "**kwargs takes variable length of input which have both key and value and return dictionary."
   ]
  },
  {
   "cell_type": "code",
   "execution_count": 3,
   "id": "86ada8d1-c7ee-45f6-9ab9-345527e2e2bb",
   "metadata": {},
   "outputs": [],
   "source": [
    "def show_arg(*arg):\n",
    "    sum = 0\n",
    "    for i in range(len(arg)):\n",
    "        sum = sum + arg[i]\n",
    "    return sum"
   ]
  },
  {
   "cell_type": "code",
   "execution_count": 4,
   "id": "948be4a3-1fcc-4b25-b251-2fa0544a3138",
   "metadata": {},
   "outputs": [
    {
     "data": {
      "text/plain": [
       "6"
      ]
     },
     "execution_count": 4,
     "metadata": {},
     "output_type": "execute_result"
    }
   ],
   "source": [
    "show_arg(1,2,3)"
   ]
  },
  {
   "cell_type": "code",
   "execution_count": 5,
   "id": "1719b745-a6dc-43de-9b8a-829801243699",
   "metadata": {},
   "outputs": [],
   "source": [
    "def show_kwarg(**kwargs):\n",
    "    return kwargs"
   ]
  },
  {
   "cell_type": "code",
   "execution_count": 6,
   "id": "506fbcfb-08e2-4153-adc9-225982a8a495",
   "metadata": {},
   "outputs": [
    {
     "data": {
      "text/plain": [
       "{'a': 1, 'b': 2, 'c': 3}"
      ]
     },
     "execution_count": 6,
     "metadata": {},
     "output_type": "execute_result"
    }
   ],
   "source": [
    "show_kwarg(a=1,b=2,c=3)"
   ]
  },
  {
   "cell_type": "markdown",
   "id": "11f5ccfd-9420-4dc7-87fc-0d6203948105",
   "metadata": {},
   "source": [
    "QUESTION 3"
   ]
  },
  {
   "cell_type": "raw",
   "id": "c0cecf26-904e-4dad-94f8-a656a66269af",
   "metadata": {},
   "source": [
    "Iterator in python is an object that allows to traverse through sequence of elements one at a time.\n",
    "iter() --> method used to initialize the iterator\n",
    "next() --> method used for iteration"
   ]
  },
  {
   "cell_type": "code",
   "execution_count": 7,
   "id": "9282ca13-ff80-406c-a071-af7c158e028c",
   "metadata": {},
   "outputs": [],
   "source": [
    "l = [2, 4, 6, 8, 10, 12, 14,16, 18, 20]"
   ]
  },
  {
   "cell_type": "code",
   "execution_count": 8,
   "id": "8f9cc8c2-4c7b-4ed2-95bd-31042f48f2dd",
   "metadata": {},
   "outputs": [
    {
     "data": {
      "text/plain": [
       "list"
      ]
     },
     "execution_count": 8,
     "metadata": {},
     "output_type": "execute_result"
    }
   ],
   "source": [
    "# next(l) --> l is not iterable\n",
    "type(l)"
   ]
  },
  {
   "cell_type": "code",
   "execution_count": 9,
   "id": "39870e2c-8d46-4a00-80cd-682be360325c",
   "metadata": {},
   "outputs": [
    {
     "data": {
      "text/plain": [
       "list_iterator"
      ]
     },
     "execution_count": 9,
     "metadata": {},
     "output_type": "execute_result"
    }
   ],
   "source": [
    "l1 = iter(l) # l1 is iterator onject\n",
    "type(l1)"
   ]
  },
  {
   "cell_type": "code",
   "execution_count": 10,
   "id": "71f2df4e-c4bc-46e1-b9f8-d8ee46dfad9d",
   "metadata": {},
   "outputs": [
    {
     "name": "stdout",
     "output_type": "stream",
     "text": [
      "2\n",
      "4\n",
      "6\n",
      "8\n",
      "10\n"
     ]
    }
   ],
   "source": [
    "for i in range(5):\n",
    "    print(next(l1))\n",
    "\n",
    "del(l1)"
   ]
  },
  {
   "cell_type": "markdown",
   "id": "cbf07283-e9be-4cf5-81fc-3e71c7395f1d",
   "metadata": {},
   "source": [
    "QUESTION 4"
   ]
  },
  {
   "cell_type": "raw",
   "id": "ab6033d7-b520-4d7d-868f-bd87448e72b4",
   "metadata": {},
   "source": [
    "Genetator function is a special type of function that returns an iterator. Unlike other functions, it uses yeild keyword to return value. Other functions return a value using return keyword. But in generator function the yeild keyword return value one after one when called.\n",
    "Generator is more memmory efficient."
   ]
  },
  {
   "cell_type": "code",
   "execution_count": 11,
   "id": "ed323b58-999f-46cc-818d-0be08b3284d1",
   "metadata": {},
   "outputs": [],
   "source": [
    "# print first 10 even numbers\n",
    "def generator(n):\n",
    "    i=1\n",
    "    for _ in range(n):\n",
    "        yield 2 * i\n",
    "        i = i+1"
   ]
  },
  {
   "cell_type": "code",
   "execution_count": 12,
   "id": "f346c11f-031a-47e3-8d62-90dc1875de1a",
   "metadata": {},
   "outputs": [
    {
     "data": {
      "text/plain": [
       "generator"
      ]
     },
     "execution_count": 12,
     "metadata": {},
     "output_type": "execute_result"
    }
   ],
   "source": [
    "gn = generator(10)\n",
    "type(gn)"
   ]
  },
  {
   "cell_type": "code",
   "execution_count": 13,
   "id": "0a7b3238-42af-4015-b1cf-e314bae9394b",
   "metadata": {},
   "outputs": [
    {
     "data": {
      "text/plain": [
       "<generator object generator at 0x7f88e7561a80>"
      ]
     },
     "execution_count": 13,
     "metadata": {},
     "output_type": "execute_result"
    }
   ],
   "source": [
    "gn"
   ]
  },
  {
   "cell_type": "code",
   "execution_count": 14,
   "id": "aede5a0e-4a08-4f65-aeba-2dd7b305d5c1",
   "metadata": {},
   "outputs": [
    {
     "name": "stdout",
     "output_type": "stream",
     "text": [
      "2\n",
      "4\n",
      "6\n",
      "8\n",
      "10\n",
      "12\n",
      "14\n",
      "16\n",
      "18\n",
      "20\n"
     ]
    }
   ],
   "source": [
    "for i in range(10):\n",
    "    print(next(gn))"
   ]
  },
  {
   "cell_type": "code",
   "execution_count": 15,
   "id": "7585794d-2aad-45f4-854d-8661dc65e2b0",
   "metadata": {},
   "outputs": [],
   "source": [
    "del(gn)"
   ]
  },
  {
   "cell_type": "markdown",
   "id": "6d5e400a-6ab3-41f2-8abe-e97e80b2bdf8",
   "metadata": {},
   "source": [
    "QUESTION 5"
   ]
  },
  {
   "cell_type": "code",
   "execution_count": 16,
   "id": "8e22f118-8457-4202-98e3-510f5507166e",
   "metadata": {},
   "outputs": [],
   "source": [
    "def isPrime(x):\n",
    "    ''' pass the argument x to check if prime or not'''\n",
    "    for i in range(2,x//2 + 1):\n",
    "        if x % i == 0:\n",
    "            return 0\n",
    "            break\n",
    "    return 1;\n",
    "        "
   ]
  },
  {
   "cell_type": "code",
   "execution_count": 17,
   "id": "0a766a5f-2513-4d44-b3fd-582e48c82c55",
   "metadata": {},
   "outputs": [],
   "source": [
    "def print_isPrime(n):\n",
    "    ''' The generator function. Check prime till n'''\n",
    "    for i in range(2,n+1):\n",
    "        if isPrime(i) == 1:\n",
    "            yield i"
   ]
  },
  {
   "cell_type": "code",
   "execution_count": 18,
   "id": "cb3c8e1f-155a-45b6-8c90-f800b365beb2",
   "metadata": {},
   "outputs": [
    {
     "name": "stdout",
     "output_type": "stream",
     "text": [
      "2\n",
      "3\n",
      "5\n",
      "7\n",
      "11\n",
      "13\n",
      "17\n",
      "19\n",
      "23\n",
      "29\n",
      "31\n",
      "37\n",
      "41\n",
      "43\n",
      "47\n",
      "53\n",
      "59\n",
      "61\n",
      "67\n",
      "71\n"
     ]
    }
   ],
   "source": [
    "prime = print_isPrime(1000)\n",
    "for i in range(20):\n",
    "    print(next(prime))\n",
    "\n",
    "\n"
   ]
  },
  {
   "cell_type": "markdown",
   "id": "08e80b27-c7f8-4bcf-932d-5c5af7b557b4",
   "metadata": {},
   "source": [
    "QUESTION 6"
   ]
  },
  {
   "cell_type": "code",
   "execution_count": 19,
   "id": "c09d2c58-0b7f-412f-85fa-a0356903ad14",
   "metadata": {},
   "outputs": [],
   "source": [
    "def fibonacci():\n",
    "    a=0\n",
    "    b=1\n",
    "    while True:\n",
    "        yield a\n",
    "        a,b = b,a+b\n",
    "        "
   ]
  },
  {
   "cell_type": "code",
   "execution_count": 20,
   "id": "6024351a-9b9b-4511-a68e-3709538df87f",
   "metadata": {},
   "outputs": [
    {
     "name": "stdout",
     "output_type": "stream",
     "text": [
      "0\n",
      "1\n",
      "1\n",
      "2\n",
      "3\n",
      "5\n",
      "8\n",
      "13\n",
      "21\n",
      "34\n"
     ]
    }
   ],
   "source": [
    "print_fibonacci = fibonacci()\n",
    "for i in range(10):\n",
    "    print(next(print_fibonacci))\n",
    "    "
   ]
  },
  {
   "cell_type": "markdown",
   "id": "46150458-247a-4ede-a2e2-b59de857e45b",
   "metadata": {},
   "source": [
    "QUESTION 7"
   ]
  },
  {
   "cell_type": "markdown",
   "id": "01b28b91-1f15-477a-8ea9-71c645b169e0",
   "metadata": {},
   "source": [
    "List Comprehension"
   ]
  },
  {
   "cell_type": "code",
   "execution_count": 21,
   "id": "f7f38f9f-bb81-4bfb-b98d-8bbae38aedbc",
   "metadata": {},
   "outputs": [
    {
     "data": {
      "text/plain": [
       "['p', 'w', 's', 'k', 'i', 'l', 'l', 's']"
      ]
     },
     "execution_count": 21,
     "metadata": {},
     "output_type": "execute_result"
    }
   ],
   "source": [
    "input_string = 'pwskills'\n",
    "pw = [i for i in input_string]\n",
    "pw"
   ]
  },
  {
   "cell_type": "markdown",
   "id": "8aa313a1-e652-4420-82fd-265d891e3bf5",
   "metadata": {},
   "source": [
    "QUESTION 8"
   ]
  },
  {
   "cell_type": "code",
   "execution_count": 42,
   "id": "f1a3b059-22b6-4d7e-b8d9-3f253dd509b7",
   "metadata": {},
   "outputs": [],
   "source": [
    "def is_Pallindrom(string):\n",
    "    if string[::-1] == string:\n",
    "        return 'is pallindrom'\n",
    "    else:\n",
    "        return 'not pallindrom'"
   ]
  },
  {
   "cell_type": "code",
   "execution_count": 43,
   "id": "c49b01bd-963c-4208-a080-4b480d9cd529",
   "metadata": {},
   "outputs": [
    {
     "data": {
      "text/plain": [
       "'not pallindrom'"
      ]
     },
     "execution_count": 43,
     "metadata": {},
     "output_type": "execute_result"
    }
   ],
   "source": [
    "is_Pallindrom('pwskills')"
   ]
  },
  {
   "cell_type": "code",
   "execution_count": 44,
   "id": "2f679c0f-e939-427d-96ac-da5b91484eed",
   "metadata": {},
   "outputs": [
    {
     "data": {
      "text/plain": [
       "'is pallindrom'"
      ]
     },
     "execution_count": 44,
     "metadata": {},
     "output_type": "execute_result"
    }
   ],
   "source": [
    "is_Pallindrom('madam')"
   ]
  },
  {
   "cell_type": "markdown",
   "id": "3a0bd450-f678-452b-a83d-8d374fde278c",
   "metadata": {},
   "source": [
    "QUESTION 9"
   ]
  },
  {
   "cell_type": "code",
   "execution_count": 52,
   "id": "f193b999-29d3-4f06-9c57-b8a378ef1078",
   "metadata": {},
   "outputs": [
    {
     "name": "stdout",
     "output_type": "stream",
     "text": [
      "[1, 3, 5, 7, 9, 11, 13, 15, 17, 19, 21, 23, 25, 27, 29, 31, 33, 35, 37, 39, 41, 43, 45, 47, 49, 51, 53, 55, 57, 59, 61, 63, 65, 67, 69, 71, 73, 75, 77, 79, 81, 83, 85, 87, 89, 91, 93, 95, 97, 99]\n"
     ]
    }
   ],
   "source": [
    "odd_number = [n for n in range(1,101) if n%2 != 0]\n",
    "print(odd_number)"
   ]
  }
 ],
 "metadata": {
  "kernelspec": {
   "display_name": "Python 3 (ipykernel)",
   "language": "python",
   "name": "python3"
  },
  "language_info": {
   "codemirror_mode": {
    "name": "ipython",
    "version": 3
   },
   "file_extension": ".py",
   "mimetype": "text/x-python",
   "name": "python",
   "nbconvert_exporter": "python",
   "pygments_lexer": "ipython3",
   "version": "3.10.8"
  }
 },
 "nbformat": 4,
 "nbformat_minor": 5
}
