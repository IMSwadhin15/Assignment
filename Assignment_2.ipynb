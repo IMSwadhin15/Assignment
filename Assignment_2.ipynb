{
 "cells": [
  {
   "cell_type": "raw",
   "id": "5160bbf4-9864-47eb-97b9-1b092858cc90",
   "metadata": {},
   "source": [
    "QUESTION 1\n",
    "\n",
    "1. In python we an use # for single line comment .\n",
    "2. Statements can written within ''' ''' to use as multiline comment"
   ]
  },
  {
   "cell_type": "code",
   "execution_count": null,
   "id": "d480017e-349a-4b58-81ff-b3ec28d3af57",
   "metadata": {},
   "outputs": [],
   "source": [
    "# this is a single line comment\n",
    "''' this can be used as\n",
    " multiline comment in python.'''"
   ]
  },
  {
   "cell_type": "raw",
   "id": "9d61ce46-55e8-44b4-92d3-fc8bc680cc76",
   "metadata": {},
   "source": [
    "QUESTION 2\n",
    "\n",
    "1. Variable is a name assigned to a memory location to store any data.\n",
    "2. In python, we can assign any value directly to a variable without defining its type. Python automatically get about the type of the variable."
   ]
  },
  {
   "cell_type": "code",
   "execution_count": 6,
   "id": "15252b98-eb49-4712-8254-fd72e69703e5",
   "metadata": {},
   "outputs": [
    {
     "name": "stdout",
     "output_type": "stream",
     "text": [
      "<class 'int'>\n",
      "<class 'float'>\n",
      "<class 'complex'>\n",
      "<class 'str'>\n",
      "<class 'bool'>\n"
     ]
    }
   ],
   "source": [
    "number = 12\n",
    "print(type(number))\n",
    "\n",
    "flt_number = 12.09\n",
    "print(type(flt_number))\n",
    "\n",
    "imagine = 4+8j\n",
    "print(type(imagine))\n",
    "\n",
    "strn = 'string'\n",
    "print(type(strn))\n",
    "\n",
    "bool  = True\n",
    "print(type(bool))"
   ]
  },
  {
   "cell_type": "markdown",
   "id": "7567f88a-e738-4f37-8c0b-4cb094f3d1f7",
   "metadata": {},
   "source": [
    "QUESTION 3\n",
    "\n",
    "Typecasting"
   ]
  },
  {
   "cell_type": "code",
   "execution_count": null,
   "id": "1837cf4b-3b43-44bc-973c-dda5db4f4639",
   "metadata": {},
   "outputs": [],
   "source": [
    "# string to int\n",
    "st = '12'\n",
    "st = int(st)\n",
    "print(st)\n",
    "print(type(st))\n",
    "\n",
    "# int to float\n",
    "print(float(number))\n",
    "print(type(float(number)))\n",
    "\n",
    "# float to int\n",
    "print(int(flt_number))\n",
    "print(type(int(flt_number)))\n",
    "\n",
    "# bool to int\n",
    "print(int(bool))\n",
    "print(type(int(bool)))"
   ]
  },
  {
   "cell_type": "raw",
   "id": "65ed34bb-3885-4bc9-8f7b-60f52ee9071a",
   "metadata": {},
   "source": [
    "QUESTION 4\n",
    "\n",
    "Open the python file location in command prompt. \n",
    "Type 'python file_name.py' and ENTER."
   ]
  },
  {
   "cell_type": "markdown",
   "id": "e32207c5-83ba-4e69-b1bc-af77c48b21fe",
   "metadata": {},
   "source": [
    "QUESTION 5"
   ]
  },
  {
   "cell_type": "code",
   "execution_count": 14,
   "id": "e762a20a-5417-4275-bb14-b776e2393cfd",
   "metadata": {},
   "outputs": [
    {
     "data": {
      "text/plain": [
       "[2, 3]"
      ]
     },
     "execution_count": 14,
     "metadata": {},
     "output_type": "execute_result"
    }
   ],
   "source": [
    "my_list = [1, 2, 3, 4, 5]\n",
    "\n",
    "# obtain [2,3]\n",
    "my_list[1:3]"
   ]
  },
  {
   "cell_type": "raw",
   "id": "dcefbb4b-3d55-4f64-b1e0-80eda826f922",
   "metadata": {},
   "source": [
    "QUESTION 6\n",
    "\n",
    "A complex number in mathematics is a number with real and imaginary parts.\n",
    "It represents as a+ib, where a,b are real numbers and i is the imaginary number.\n",
    "i = sqrt(-1)."
   ]
  },
  {
   "cell_type": "code",
   "execution_count": 16,
   "id": "d957c84e-be35-48bf-b09c-5bfa5d00c1c7",
   "metadata": {},
   "outputs": [
    {
     "name": "stdout",
     "output_type": "stream",
     "text": [
      "<class 'complex'>\n",
      "4.0\n",
      "5.0\n"
     ]
    }
   ],
   "source": [
    "# complex number in python\n",
    "cmplx = 4+5j\n",
    "# in python j is used in place of i\n",
    "print(type(cmplx))\n",
    "print(cmplx.real) # real part\n",
    "print(cmplx.imag) # imaginary part "
   ]
  },
  {
   "cell_type": "markdown",
   "id": "1caac777-4c00-47eb-8506-99d9b65bed4c",
   "metadata": {},
   "source": [
    "QUESTION 7"
   ]
  },
  {
   "cell_type": "code",
   "execution_count": 17,
   "id": "a74c3b01-bd74-4dac-b57d-238880609cee",
   "metadata": {},
   "outputs": [
    {
     "name": "stdout",
     "output_type": "stream",
     "text": [
      "25\n"
     ]
    }
   ],
   "source": [
    "age = 25\n",
    "print(age)"
   ]
  },
  {
   "cell_type": "markdown",
   "id": "644be136-8018-4576-b515-5f37ba23cbe3",
   "metadata": {},
   "source": [
    "QUESTION 8"
   ]
  },
  {
   "cell_type": "code",
   "execution_count": 18,
   "id": "98b2df73-f872-414e-bd9a-d14d811082fc",
   "metadata": {},
   "outputs": [
    {
     "name": "stdout",
     "output_type": "stream",
     "text": [
      "9.99\n",
      "<class 'float'>\n"
     ]
    }
   ],
   "source": [
    "price = 9.99\n",
    "print(price)\n",
    "print(type(price)) # float data types"
   ]
  },
  {
   "cell_type": "markdown",
   "id": "a4061f0d-0bdf-4333-9959-51419fddd25e",
   "metadata": {},
   "source": [
    "QUESTION 9"
   ]
  },
  {
   "cell_type": "code",
   "execution_count": 19,
   "id": "7109781a-5924-4d27-b954-b531df309b07",
   "metadata": {},
   "outputs": [
    {
     "name": "stdout",
     "output_type": "stream",
     "text": [
      "swadhin ranjan patra\n"
     ]
    }
   ],
   "source": [
    "name = 'swadhin ranjan patra'\n",
    "print(name)"
   ]
  },
  {
   "cell_type": "markdown",
   "id": "ece9941d-be10-4e85-8c55-ccc948cfbb28",
   "metadata": {},
   "source": [
    "QUESTION 10"
   ]
  },
  {
   "cell_type": "code",
   "execution_count": 23,
   "id": "d2767d8f-7c5e-48d4-9dba-a13e8e3208c1",
   "metadata": {},
   "outputs": [
    {
     "name": "stdout",
     "output_type": "stream",
     "text": [
      "World\n"
     ]
    }
   ],
   "source": [
    "strn = 'Hello,World!'\n",
    "print(strn[-6:-1])"
   ]
  },
  {
   "cell_type": "markdown",
   "id": "8cfd71d2-7293-45a5-a552-d8b2130b1344",
   "metadata": {},
   "source": [
    "QUESTION 11"
   ]
  },
  {
   "cell_type": "code",
   "execution_count": 26,
   "id": "fd2f2f09-4117-49fa-9f39-6071f0e715ed",
   "metadata": {},
   "outputs": [
    {
     "name": "stdout",
     "output_type": "stream",
     "text": [
      "True\n",
      "<class 'bool'>\n"
     ]
    }
   ],
   "source": [
    "is_student = True\n",
    "print(is_student)\n",
    "print(type(is_student))"
   ]
  }
 ],
 "metadata": {
  "kernelspec": {
   "display_name": "Python 3 (ipykernel)",
   "language": "python",
   "name": "python3"
  },
  "language_info": {
   "codemirror_mode": {
    "name": "ipython",
    "version": 3
   },
   "file_extension": ".py",
   "mimetype": "text/x-python",
   "name": "python",
   "nbconvert_exporter": "python",
   "pygments_lexer": "ipython3",
   "version": "3.10.8"
  }
 },
 "nbformat": 4,
 "nbformat_minor": 5
}
