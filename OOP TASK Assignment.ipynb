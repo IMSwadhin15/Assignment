{
 "cells": [
  {
   "cell_type": "markdown",
   "id": "fe0130b6-fb28-4ee2-b3b4-be67f51d01e9",
   "metadata": {},
   "source": [
    "# QUESTION 1"
   ]
  },
  {
   "cell_type": "code",
   "execution_count": 34,
   "id": "cddbd6f2-185a-4fdd-8ad7-daef6b351a5d",
   "metadata": {},
   "outputs": [],
   "source": [
    "class vehicle:\n",
    "    def __init__(self,name_of_vehicle,max_speed,average_of_vehicle):\n",
    "        self.name_of_vehicle = name_of_vehicle\n",
    "        self.max_speed = max_speed\n",
    "        self.average_of_vehicle = average_of_vehicle\n",
    "        \n"
   ]
  },
  {
   "cell_type": "markdown",
   "id": "9f647985-f6ad-4a5b-abe9-79b0e72d2390",
   "metadata": {},
   "source": [
    "# QUESTION 2\n",
    "  INHERITANCE"
   ]
  },
  {
   "cell_type": "code",
   "execution_count": 35,
   "id": "84f79563-7ae3-4e87-ac4d-e2a86b2e6de6",
   "metadata": {},
   "outputs": [
    {
     "name": "stdout",
     "output_type": "stream",
     "text": [
      "Tiago has sitting capacity of 4\n"
     ]
    }
   ],
   "source": [
    "class car(vehicle):\n",
    "    def seating_capacity(self,capacity):\n",
    "        self.capacity = capacity\n",
    "        print(f'{self.name_of_vehicle} has sitting capacity of {self.capacity}')\n",
    "        \n",
    "Tata_car = car('Tiago',140,60)\n",
    "Tata_car.seating_capacity(4)"
   ]
  },
  {
   "cell_type": "markdown",
   "id": "6d1b4531-ba07-421f-8a56-585e0f2967ef",
   "metadata": {},
   "source": [
    "# QUESTION 3\n",
    " MULTIPLE INHERITANCE"
   ]
  },
  {
   "cell_type": "raw",
   "id": "9fc43fe7-656c-4170-afdc-f7dde1e76cb7",
   "metadata": {},
   "source": [
    "Multiple inheritance is the type of inheritance in which the child class inherits 2 or more different parent classes."
   ]
  },
  {
   "cell_type": "code",
   "execution_count": 36,
   "id": "c6c97cae-6567-4be6-8859-a1bb85373f3e",
   "metadata": {},
   "outputs": [
    {
     "name": "stdout",
     "output_type": "stream",
     "text": [
      "This is first parent class\n",
      "This is second parent class\n"
     ]
    }
   ],
   "source": [
    "class parent_1:\n",
    "    def show_1(self):\n",
    "        print('This is first parent class')\n",
    "        \n",
    "class parent_2:\n",
    "    def show_2(self):\n",
    "        print('This is second parent class')\n",
    "        \n",
    "class child_class(parent_1,parent_2):\n",
    "    pass\n",
    "\n",
    "object = child_class()\n",
    "object.show_1() # inherited from parent_1 class\n",
    "object.show_2() # inherited from parent_2 class"
   ]
  },
  {
   "cell_type": "markdown",
   "id": "24581176-e4ff-48c1-8c4d-480586839554",
   "metadata": {},
   "source": [
    "# QUESTION 4\n",
    "  GETTER AND SETTER"
   ]
  },
  {
   "cell_type": "raw",
   "id": "20f59828-5c1f-4c7a-a4e6-3d0552ea2c45",
   "metadata": {},
   "source": [
    "Getter and Setter are method used for giving controlled permission to modify and access private and protected attributes."
   ]
  },
  {
   "cell_type": "code",
   "execution_count": 37,
   "id": "af5c95d5-3273-4ba8-9a0d-11129d61d7ac",
   "metadata": {},
   "outputs": [],
   "source": [
    "class hide_All:\n",
    "    def __init__(self,name,age):\n",
    "        self.__name = name\n",
    "        self.__age = age\n",
    "        \n",
    "    def set_age(self,age):\n",
    "        self.__age = age if age > 18 else 0\n",
    "    \n",
    "    def get_age(self):\n",
    "        return self.__age\n",
    "\n",
    "obj = hide_All('raka',21)\n",
    "# obj.__name\n",
    "# obj._hide_All__name"
   ]
  },
  {
   "cell_type": "code",
   "execution_count": 30,
   "id": "afa7dfaf-9f74-4817-ac75-446a7623a1dc",
   "metadata": {},
   "outputs": [
    {
     "data": {
      "text/plain": [
       "21"
      ]
     },
     "execution_count": 30,
     "metadata": {},
     "output_type": "execute_result"
    }
   ],
   "source": [
    "obj.get_age()"
   ]
  },
  {
   "cell_type": "code",
   "execution_count": 33,
   "id": "f5616be4-2749-40e7-bd72-cdb892d10df0",
   "metadata": {},
   "outputs": [
    {
     "data": {
      "text/plain": [
       "34"
      ]
     },
     "execution_count": 33,
     "metadata": {},
     "output_type": "execute_result"
    }
   ],
   "source": [
    "# obj.set_age(-9)\n",
    "obj.set_age(34)\n",
    "obj.get_age()"
   ]
  },
  {
   "cell_type": "markdown",
   "id": "7297f14d-54f7-4f6f-b20f-9a1e4e87f09a",
   "metadata": {},
   "source": [
    "# QUESTION 5\n",
    "  METHOD OVERRIDING"
   ]
  },
  {
   "cell_type": "markdown",
   "id": "658f06f3-9eb0-46bf-bb5d-876ae388d500",
   "metadata": {},
   "source": [
    "Method overriding is a feature in oops that allows a subclass to provide new implementation for a method that already defined in the super class."
   ]
  },
  {
   "cell_type": "code",
   "execution_count": 39,
   "id": "f6c1acd1-ecfc-4179-a62c-3886fe976ab9",
   "metadata": {},
   "outputs": [
    {
     "name": "stdout",
     "output_type": "stream",
     "text": [
      "Cat mew\n",
      "Dog barks\n"
     ]
    }
   ],
   "source": [
    "class Animal:\n",
    "    def sound(self):\n",
    "        return 'animal makes sound'\n",
    "\n",
    "class Dog(Animal):\n",
    "    def sound(self):\n",
    "        return 'Dog barks'\n",
    "\n",
    "class Cat(Animal):\n",
    "    def sound(self):\n",
    "        return 'Cat mew'\n",
    "\n",
    "cat_obj = Cat()\n",
    "dog_obj = Dog()\n",
    "\n",
    "print(cat_obj.sound())\n",
    "print(dog_obj.sound())"
   ]
  },
  {
   "cell_type": "code",
   "execution_count": null,
   "id": "b7311a1c-2cfe-41ba-8774-a24dca6af61d",
   "metadata": {},
   "outputs": [],
   "source": []
  }
 ],
 "metadata": {
  "kernelspec": {
   "display_name": "Python 3 (ipykernel)",
   "language": "python",
   "name": "python3"
  },
  "language_info": {
   "codemirror_mode": {
    "name": "ipython",
    "version": 3
   },
   "file_extension": ".py",
   "mimetype": "text/x-python",
   "name": "python",
   "nbconvert_exporter": "python",
   "pygments_lexer": "ipython3",
   "version": "3.10.8"
  }
 },
 "nbformat": 4,
 "nbformat_minor": 5
}
