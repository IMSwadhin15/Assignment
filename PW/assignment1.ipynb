{
 "cells": [
  {
   "cell_type": "markdown",
   "id": "0735b48e-199b-4a68-9cc1-4580cfddde1f",
   "metadata": {},
   "source": [
    "QUESTION 1"
   ]
  },
  {
   "cell_type": "code",
   "execution_count": 5,
   "id": "bd40a588-f5fb-465b-830c-14447d6944e4",
   "metadata": {},
   "outputs": [
    {
     "name": "stdout",
     "output_type": "stream",
     "text": [
      "<class 'str'>\n",
      "<class 'list'>\n",
      "<class 'float'>\n",
      "<class 'tuple'>\n"
     ]
    }
   ],
   "source": [
    "#string\n",
    "str = 'wallah'\n",
    "print(type(str))\n",
    "\n",
    "#list\n",
    "ls = [1,2,'f',34,'ghj']\n",
    "print(type(ls))\n",
    "\n",
    "#float\n",
    "flt = 3.40\n",
    "print(type(flt))\n",
    "\n",
    "#tuple\n",
    "tup = 1,24,3,'45','r'\n",
    "print(type(tup))"
   ]
  },
  {
   "cell_type": "markdown",
   "id": "77b1ea76-363b-4b38-b612-83e1b4c146b8",
   "metadata": {},
   "source": [
    "QUESTION 2"
   ]
  },
  {
   "cell_type": "code",
   "execution_count": 9,
   "id": "56327f96-4f84-4305-8f38-0d42a55a4226",
   "metadata": {},
   "outputs": [
    {
     "name": "stdout",
     "output_type": "stream",
     "text": [
      "<class 'str'>\n",
      "<class 'str'>\n",
      "<class 'list'>\n",
      "<class 'int'>\n"
     ]
    }
   ],
   "source": [
    "var1 = ' ' # string\n",
    "print(type(var1))\n",
    "\n",
    "var2 = '[ DS , ML , Python]'  #string\n",
    "print(type(var2))\n",
    "\n",
    "var3 = [ 'DS' , 'ML' , 'Python' ] #list\n",
    "print(type(var3))\n",
    "\n",
    "var4 = 1 # int\n",
    "print(type(var4))"
   ]
  },
  {
   "cell_type": "markdown",
   "id": "d30628b6-f5ed-4a35-a3b6-5dee279e6656",
   "metadata": {},
   "source": [
    "QUESTION 3"
   ]
  },
  {
   "cell_type": "markdown",
   "id": "369c21da-d145-4812-82ba-69f81daa8d2d",
   "metadata": {},
   "source": [
    "i. / is used for division which gives answer in float datatype by default."
   ]
  },
  {
   "cell_type": "code",
   "execution_count": 11,
   "id": "0fd0fede-8c03-40d0-af65-7f28b6adf2d7",
   "metadata": {},
   "outputs": [
    {
     "name": "stdout",
     "output_type": "stream",
     "text": [
      "5.0\n"
     ]
    },
    {
     "data": {
      "text/plain": [
       "float"
      ]
     },
     "execution_count": 11,
     "metadata": {},
     "output_type": "execute_result"
    }
   ],
   "source": [
    "print(10/2)\n",
    "type(10/2)"
   ]
  },
  {
   "cell_type": "markdown",
   "id": "5b8b91c1-83d5-44d0-b6c9-ba106f05a4ef",
   "metadata": {},
   "source": [
    "ii. % is the modulos operator which is used to find the reminder of a division"
   ]
  },
  {
   "cell_type": "code",
   "execution_count": 13,
   "id": "d647cd2d-b5d7-4328-9e07-f2f57aeed7fa",
   "metadata": {},
   "outputs": [
    {
     "name": "stdout",
     "output_type": "stream",
     "text": [
      "4\n"
     ]
    }
   ],
   "source": [
    "print(10%6)"
   ]
  },
  {
   "cell_type": "markdown",
   "id": "f146db28-98bc-428a-a166-6bdf6d808718",
   "metadata": {},
   "source": [
    "iii. // is also the division operator but gives the result in int datatype."
   ]
  },
  {
   "cell_type": "code",
   "execution_count": 14,
   "id": "e1f30977-0b7d-422e-8e4c-e783c4446820",
   "metadata": {},
   "outputs": [
    {
     "name": "stdout",
     "output_type": "stream",
     "text": [
      "5\n"
     ]
    },
    {
     "data": {
      "text/plain": [
       "int"
      ]
     },
     "execution_count": 14,
     "metadata": {},
     "output_type": "execute_result"
    }
   ],
   "source": [
    "print(10//2)\n",
    "type(10//2)"
   ]
  },
  {
   "cell_type": "markdown",
   "id": "8f6fa094-b8be-4aa2-a7b5-2f3e3f90c978",
   "metadata": {},
   "source": [
    "iv. ** is the operator to find exponential power of a number."
   ]
  },
  {
   "cell_type": "code",
   "execution_count": 15,
   "id": "5bfd7ae8-58c7-4653-a4a2-fbcf0591e623",
   "metadata": {},
   "outputs": [
    {
     "name": "stdout",
     "output_type": "stream",
     "text": [
      "25\n"
     ]
    }
   ],
   "source": [
    "print(5**2)"
   ]
  },
  {
   "cell_type": "markdown",
   "id": "90c99ebe-88c8-4e14-9d59-b35d9dff2244",
   "metadata": {},
   "source": [
    "QUESTION 4"
   ]
  },
  {
   "cell_type": "code",
   "execution_count": 6,
   "id": "109b8a11-41f2-4250-ba9e-2d6e1661e536",
   "metadata": {},
   "outputs": [
    {
     "name": "stdout",
     "output_type": "stream",
     "text": [
      "12\n",
      "<class 'int'>\n",
      "strin\n",
      "<class 'str'>\n",
      "True\n",
      "<class 'bool'>\n",
      "3.0\n",
      "<class 'float'>\n",
      "(7+9j)\n",
      "<class 'complex'>\n",
      "a\n",
      "<class 'str'>\n",
      "2\n",
      "<class 'int'>\n",
      "45\n",
      "<class 'str'>\n",
      "False\n",
      "<class 'bool'>\n",
      "pw\n",
      "<class 'str'>\n"
     ]
    }
   ],
   "source": [
    "my_list = [12,'strin',True,3.0,7+9j,'a',2,'45',False,'pw']\n",
    "for i in my_list:\n",
    "    print(i)\n",
    "    print(type(i))"
   ]
  },
  {
   "cell_type": "markdown",
   "id": "e1a2c6eb-a320-4eb6-b907-4e4f403ca842",
   "metadata": {},
   "source": [
    "QUESTION 5"
   ]
  },
  {
   "cell_type": "code",
   "execution_count": 9,
   "id": "39d5660c-65c9-49a1-9640-c74814762220",
   "metadata": {},
   "outputs": [
    {
     "name": "stdin",
     "output_type": "stream",
     "text": [
      "enter the number A: 11\n",
      "enter the number B: 2\n"
     ]
    },
    {
     "name": "stdout",
     "output_type": "stream",
     "text": [
      "11 is not divided by 2\n"
     ]
    }
   ],
   "source": [
    "C=A = int(input(\"enter the number A:\"))\n",
    "B = int(input(\"enter the number B:\"))\n",
    "\n",
    "count = 0\n",
    "\n",
    "while A%B == 0:\n",
    "    A = A // B\n",
    "    count += 1\n",
    "    \n",
    "if count>0 :\n",
    "    print(C,\"is divisible by\",B,\",\",count,\"times\")\n",
    "else:\n",
    "    print(A,\"is not divided by\",B)"
   ]
  },
  {
   "cell_type": "markdown",
   "id": "06cd339b-9178-4bcc-ac9f-dca63e6a7b88",
   "metadata": {},
   "source": [
    "QUESTION 6"
   ]
  },
  {
   "cell_type": "code",
   "execution_count": 24,
   "id": "744df765-0e9e-4afd-8845-ce858807130f",
   "metadata": {},
   "outputs": [
    {
     "name": "stdout",
     "output_type": "stream",
     "text": [
      "1 is NOT divisible by 3\n",
      "2 is NOT divisible by 3\n",
      "3 is DIVISIBLE by 3\n",
      "4 is NOT divisible by 3\n",
      "5 is NOT divisible by 3\n",
      "6 is DIVISIBLE by 3\n",
      "7 is NOT divisible by 3\n",
      "8 is NOT divisible by 3\n",
      "9 is DIVISIBLE by 3\n",
      "10 is NOT divisible by 3\n",
      "11 is NOT divisible by 3\n",
      "12 is DIVISIBLE by 3\n",
      "13 is NOT divisible by 3\n",
      "14 is NOT divisible by 3\n",
      "15 is DIVISIBLE by 3\n",
      "16 is NOT divisible by 3\n",
      "17 is NOT divisible by 3\n",
      "18 is DIVISIBLE by 3\n",
      "19 is NOT divisible by 3\n",
      "20 is NOT divisible by 3\n",
      "21 is DIVISIBLE by 3\n",
      "22 is NOT divisible by 3\n",
      "23 is NOT divisible by 3\n",
      "24 is DIVISIBLE by 3\n",
      "25 is NOT divisible by 3\n"
     ]
    }
   ],
   "source": [
    "lst = list(range(1,26)) # create a list of numbers from 1 to 25\n",
    "\n",
    "for i in lst:\n",
    "    if i%3 == 0:\n",
    "        print(f\"{i} is DIVISIBLE by 3\")\n",
    "    else:\n",
    "        print(f\"{i} is NOT divisible by 3\")"
   ]
  },
  {
   "cell_type": "markdown",
   "id": "b1259074-1284-4c46-9274-39e8a49533fc",
   "metadata": {},
   "source": [
    "QUESTION 7"
   ]
  },
  {
   "cell_type": "markdown",
   "id": "875f5054-a004-485c-a5d3-71c8aafe0e25",
   "metadata": {},
   "source": [
    "Mutable data types means any indexed value can be changed anytime. Example of a mutable data type is list."
   ]
  },
  {
   "cell_type": "code",
   "execution_count": 27,
   "id": "cc291792-711b-464a-ab92-3965ee2f7273",
   "metadata": {},
   "outputs": [
    {
     "name": "stdout",
     "output_type": "stream",
     "text": [
      "[0, 1, 2, 3, 4, 5, 6, 7, 8, 9]\n",
      "[0, 1, 2, 'a', 4, 5, 6, 7, 8, 9]\n"
     ]
    }
   ],
   "source": [
    "# Mutable\n",
    "lst = list(range(10))\n",
    "print(lst)\n",
    "lst[3] = 'a'\n",
    "print(lst)"
   ]
  },
  {
   "cell_type": "markdown",
   "id": "12dc91ad-d6d7-4387-9c24-ddd8a4603ecc",
   "metadata": {},
   "source": [
    "Immutable data type means indexed values cannot be changed futher. Example of mutable data types is tuple, string."
   ]
  },
  {
   "cell_type": "code",
   "execution_count": 29,
   "id": "c5798c34-340b-4575-bda3-ddfb389f32a3",
   "metadata": {},
   "outputs": [
    {
     "name": "stdout",
     "output_type": "stream",
     "text": [
      "y\n"
     ]
    },
    {
     "ename": "TypeError",
     "evalue": "'str' object does not support item assignment",
     "output_type": "error",
     "traceback": [
      "\u001b[0;31m---------------------------------------------------------------------------\u001b[0m",
      "\u001b[0;31mTypeError\u001b[0m                                 Traceback (most recent call last)",
      "Cell \u001b[0;32mIn[29], line 4\u001b[0m\n\u001b[1;32m      2\u001b[0m \u001b[38;5;28mstr\u001b[39m \u001b[38;5;241m=\u001b[39m \u001b[38;5;124m'\u001b[39m\u001b[38;5;124mphysicswallah\u001b[39m\u001b[38;5;124m'\u001b[39m\n\u001b[1;32m      3\u001b[0m \u001b[38;5;28mprint\u001b[39m(\u001b[38;5;28mstr\u001b[39m[\u001b[38;5;241m2\u001b[39m])\n\u001b[0;32m----> 4\u001b[0m \u001b[38;5;28;43mstr\u001b[39;49m\u001b[43m[\u001b[49m\u001b[38;5;241;43m2\u001b[39;49m\u001b[43m]\u001b[49m \u001b[38;5;241m=\u001b[39m \u001b[38;5;241m3\u001b[39m\n",
      "\u001b[0;31mTypeError\u001b[0m: 'str' object does not support item assignment"
     ]
    }
   ],
   "source": [
    "# Immutable\n",
    "str = 'physicswallah'\n",
    "print(str[2])\n",
    "str[2] = 3 # error showing --> 'str' object does not support item assignment"
   ]
  },
  {
   "cell_type": "code",
   "execution_count": null,
   "id": "a72907c5-e778-41b9-8ee1-de23f404204f",
   "metadata": {},
   "outputs": [],
   "source": []
  }
 ],
 "metadata": {
  "kernelspec": {
   "display_name": "Python 3 (ipykernel)",
   "language": "python",
   "name": "python3"
  },
  "language_info": {
   "codemirror_mode": {
    "name": "ipython",
    "version": 3
   },
   "file_extension": ".py",
   "mimetype": "text/x-python",
   "name": "python",
   "nbconvert_exporter": "python",
   "pygments_lexer": "ipython3",
   "version": "3.10.8"
  }
 },
 "nbformat": 4,
 "nbformat_minor": 5
}
