{
 "cells": [
  {
   "cell_type": "markdown",
   "id": "a3fbdac5-8458-420a-ba5d-065c61ae132d",
   "metadata": {},
   "source": [
    "# QUESTION 1"
   ]
  },
  {
   "cell_type": "raw",
   "id": "ae25952c-0aa0-48d1-8d71-986c23e920e6",
   "metadata": {},
   "source": [
    "ABSTRACTION is a process of hiding internal details of any application. It hides the unnecessary deatils( like the internal functionality) from the user and only provide the simple and necessary informations."
   ]
  },
  {
   "cell_type": "code",
   "execution_count": 10,
   "id": "3f2f37c9-2568-4445-a7c6-8903e428d04f",
   "metadata": {},
   "outputs": [],
   "source": [
    "# Example for abstraction\n",
    "'''The 'car' class is the abstract class and the milege method is the abstract method. The abstract method is defined in the \n",
    "sub classes. The method is defined in the respective subclasses as per requirements.'''\n",
    "from abc import ABC,abstractmethod\n",
    "\n",
    "class car(ABC):\n",
    "    @abstractmethod\n",
    "    def milege(self):\n",
    "        pass"
   ]
  },
  {
   "cell_type": "code",
   "execution_count": 24,
   "id": "4614507b-55c6-4939-904c-8da41ea73ed4",
   "metadata": {},
   "outputs": [],
   "source": [
    "class tesla(car):\n",
    "    def milege(self):\n",
    "        print('3o km/h')"
   ]
  },
  {
   "cell_type": "code",
   "execution_count": 25,
   "id": "9cf36fbd-037c-4aad-8469-e5cf97f02285",
   "metadata": {},
   "outputs": [],
   "source": [
    "class tata(car):\n",
    "    def milege(self):\n",
    "        print('5o km/h')"
   ]
  },
  {
   "cell_type": "code",
   "execution_count": 26,
   "id": "c760ac96-3f20-4d3a-84ad-24c5bb8959e0",
   "metadata": {},
   "outputs": [],
   "source": [
    "class mahindra(car):\n",
    "    def milege(self):\n",
    "        print('8o km/h')"
   ]
  },
  {
   "cell_type": "code",
   "execution_count": 27,
   "id": "ca555d11-dd88-4816-8480-4c81cafc1bcb",
   "metadata": {},
   "outputs": [
    {
     "name": "stdout",
     "output_type": "stream",
     "text": [
      "5o km/h\n"
     ]
    }
   ],
   "source": [
    "tata_car = tata()\n",
    "tata_car.milege()"
   ]
  },
  {
   "cell_type": "code",
   "execution_count": 28,
   "id": "8f78b451-e23f-4632-8ac2-3d80aec4a548",
   "metadata": {},
   "outputs": [
    {
     "name": "stdout",
     "output_type": "stream",
     "text": [
      "3o km/h\n"
     ]
    }
   ],
   "source": [
    "tesla_car = tesla()\n",
    "tesla_car.milege()"
   ]
  },
  {
   "cell_type": "code",
   "execution_count": 30,
   "id": "b6a4f379-d916-4e4b-9a2c-95894134e5e7",
   "metadata": {},
   "outputs": [
    {
     "name": "stdout",
     "output_type": "stream",
     "text": [
      "8o km/h\n"
     ]
    }
   ],
   "source": [
    "mahindra_car = mahindra()\n",
    "mahindra_car.milege()"
   ]
  },
  {
   "cell_type": "markdown",
   "id": "a3e0abd1-83af-492a-9e05-38a6b0cbc890",
   "metadata": {},
   "source": [
    "# QUESTION 2"
   ]
  },
  {
   "cell_type": "raw",
   "id": "0eb4051c-ddbc-4db5-83b4-a35387a43b71",
   "metadata": {},
   "source": [
    "Encapsulation is the bunding of attributes and methods in the class to restrict the direct access to the components of a object.\n",
    "Abstraction is to hide the internal functionality details and only provide the necessary details to the user."
   ]
  },
  {
   "cell_type": "code",
   "execution_count": 8,
   "id": "81ac9874-0f73-4711-a174-91ba45cd79ff",
   "metadata": {},
   "outputs": [
    {
     "name": "stdout",
     "output_type": "stream",
     "text": [
      "10000\n",
      "10500\n",
      "10300\n"
     ]
    },
    {
     "ename": "AttributeError",
     "evalue": "'bank' object has no attribute 'balance'",
     "output_type": "error",
     "traceback": [
      "\u001b[1;31m---------------------------------------------------------------------------\u001b[0m",
      "\u001b[1;31mAttributeError\u001b[0m                            Traceback (most recent call last)",
      "Cell \u001b[1;32mIn[8], line 25\u001b[0m\n\u001b[0;32m     23\u001b[0m account\u001b[38;5;241m.\u001b[39mdeposit(\u001b[38;5;241m500\u001b[39m)\n\u001b[0;32m     24\u001b[0m account\u001b[38;5;241m.\u001b[39mwithdraw(\u001b[38;5;241m200\u001b[39m)\n\u001b[1;32m---> 25\u001b[0m \u001b[43maccount\u001b[49m\u001b[38;5;241;43m.\u001b[39;49m\u001b[43mbalance\u001b[49m\n",
      "\u001b[1;31mAttributeError\u001b[0m: 'bank' object has no attribute 'balance'"
     ]
    }
   ],
   "source": [
    "# code example\n",
    "# Encapsulation\n",
    "\n",
    "class bank:\n",
    "    def __init__(self,balance):\n",
    "        self._balance = balance  # balance is a private attribute which can't be accessed by the user\n",
    "\n",
    "    def get_balance(self):\n",
    "        print(self._balance)\n",
    "\n",
    "    def deposit(self,amount):\n",
    "        self._balance = self._balance + amount\n",
    "        print(self._balance)\n",
    "\n",
    "    def withdraw(self,amount):\n",
    "        if amount>0 and amount<=self._balance:\n",
    "            self._balance -= amount\n",
    "        \n",
    "        print(self._balance)\n",
    "\n",
    "account = bank(10000)\n",
    "account.get_balance()\n",
    "account.deposit(500)\n",
    "account.withdraw(200)\n",
    "account.balance # can't be accessed"
   ]
  },
  {
   "cell_type": "code",
   "execution_count": 16,
   "id": "58850539-8346-4a35-a710-f32998aec9a5",
   "metadata": {},
   "outputs": [],
   "source": [
    "# Abstraction\n",
    "class vehicle(ABC):\n",
    "    def __init__(self,model,year):\n",
    "        self.model = model\n",
    "        self.year = year\n",
    "\n",
    "    @abstractmethod\n",
    "    def new_model(self):\n",
    "        pass\n",
    "\n",
    "    @abstractmethod\n",
    "    def make_year(self):\n",
    "        pass\n",
    "\n",
    "    class car(vehicle):\n",
    "        def new_model(slef):\n",
    "            print(f\" car is of {self.model} model\")\n",
    "\n",
    "        def make_year(self):\n",
    "            print(f\"car is launched in {self.year} year\")\n"
   ]
  },
  {
   "cell_type": "markdown",
   "id": "7aa94624-b32f-469a-8b77-5f5d1fa9fb66",
   "metadata": {},
   "source": [
    "# QUESTION 3"
   ]
  },
  {
   "cell_type": "raw",
   "id": "a14d33f3-f9ff-4f27-809a-fd2baefb0e44",
   "metadata": {},
   "source": [
    "abc module stands for ' abstract base class', which act as a framework for defining abstract base class and abstract method which are essential for implementing abstraction.\n",
    "\n",
    "Abstract base class cannot be intantiated but, serve as frame work for other classes which inherit it."
   ]
  },
  {
   "cell_type": "markdown",
   "id": "82e42aeb-8357-499e-a3bd-57922e9ccecd",
   "metadata": {},
   "source": [
    "# QUESTION 4"
   ]
  },
  {
   "cell_type": "markdown",
   "id": "24f048e6-7a92-403f-9957-c6b3df866b60",
   "metadata": {},
   "source": [
    "Data abstraction is achieved by exposing only necessary informations and hiding the complex informations. It can be done by encapsulation, by controlling the access and hiding the internal functionalities."
   ]
  },
  {
   "cell_type": "markdown",
   "id": "c1de3c1a-a165-49b5-8d71-276140d071aa",
   "metadata": {},
   "source": [
    "# QUESTION 5"
   ]
  },
  {
   "cell_type": "raw",
   "id": "cdeb66ca-4d42-458b-838e-b45d2d34fac9",
   "metadata": {},
   "source": [
    "Abstract class can't be intantiated.\n",
    "\n",
    "Abstract class is a frame work for the classes which inherit it. It has many abstract methods, which are declared but not defined in the class itself. So due to the incomplete and undefined behaviour of the unimplemented mehtod, abstract class are not meant to be intantiated."
   ]
  },
  {
   "cell_type": "code",
   "execution_count": null,
   "id": "d2b9e5c9-0c77-4c6f-a3ff-50d945a09934",
   "metadata": {},
   "outputs": [],
   "source": []
  }
 ],
 "metadata": {
  "kernelspec": {
   "display_name": "Python 3 (ipykernel)",
   "language": "python",
   "name": "python3"
  },
  "language_info": {
   "codemirror_mode": {
    "name": "ipython",
    "version": 3
   },
   "file_extension": ".py",
   "mimetype": "text/x-python",
   "name": "python",
   "nbconvert_exporter": "python",
   "pygments_lexer": "ipython3",
   "version": "3.11.4"
  }
 },
 "nbformat": 4,
 "nbformat_minor": 5
}
