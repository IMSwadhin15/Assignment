{
 "cells": [
  {
   "cell_type": "markdown",
   "id": "a1d12a83-ea0a-4cf2-8b15-27082491155b",
   "metadata": {},
   "source": [
    "# QUESTION 1"
   ]
  },
  {
   "cell_type": "code",
   "execution_count": 1,
   "id": "a2ea3127-15ff-43d6-b843-0212f4ceaa9a",
   "metadata": {},
   "outputs": [
    {
     "data": {
      "text/plain": [
       "[('Virat Kohli', 24936),\n",
       " ('Jack Kallis', 25534),\n",
       " ('Ricky Ponting', 27483),\n",
       " ('Sachin Tendulkar', 34357)]"
      ]
     },
     "execution_count": 1,
     "metadata": {},
     "output_type": "execute_result"
    }
   ],
   "source": [
    "lit = [('Sachin Tendulkar', 34357), ('Ricky Ponting', 27483), ('Jack Kallis', 25534), ('Virat Kohli', 24936)]\n",
    "\n",
    "lit.sort(key = lambda x:x[1])\n",
    "\n",
    "lit"
   ]
  },
  {
   "cell_type": "markdown",
   "id": "1902b4f1-1e7b-4d52-8904-927a06f5f8a5",
   "metadata": {},
   "source": [
    "# QUESTION 2\n",
    "squaring the elements of the list by map and lambda function"
   ]
  },
  {
   "cell_type": "code",
   "execution_count": 2,
   "id": "d0a3c0dd-aa50-498f-b9f8-e8dc005614ee",
   "metadata": {},
   "outputs": [
    {
     "data": {
      "text/plain": [
       "[1, 4, 9, 16, 25, 36, 49, 64, 81, 100]"
      ]
     },
     "execution_count": 2,
     "metadata": {},
     "output_type": "execute_result"
    }
   ],
   "source": [
    "array = [1, 2, 3, 4, 5, 6, 7, 8, 9, 10]\n",
    "\n",
    "list(map(lambda x:x**2, array))"
   ]
  },
  {
   "cell_type": "markdown",
   "id": "3ca9bcfb-020a-4d93-abde-79af09cfc7cb",
   "metadata": {},
   "source": [
    "# QUESTION 3\n",
    "list to tuple by map and lambda function"
   ]
  },
  {
   "cell_type": "code",
   "execution_count": 3,
   "id": "200f1f6d-6a3d-4bbe-af00-b6fdc47e7b46",
   "metadata": {},
   "outputs": [
    {
     "data": {
      "text/plain": [
       "('1', '2', '3', '4', '5', '6', '7', '8', '9', '10')"
      ]
     },
     "execution_count": 3,
     "metadata": {},
     "output_type": "execute_result"
    }
   ],
   "source": [
    "the_list = [1, 2, 3, 4, 5, 6, 7, 8, 9, 10]\n",
    "\n",
    "tuple(map(lambda x:str(x), the_list))"
   ]
  },
  {
   "cell_type": "markdown",
   "id": "241e85d1-6aaf-4bdf-992e-9f8bdb227252",
   "metadata": {},
   "source": [
    "# QUESTION 4"
   ]
  },
  {
   "cell_type": "code",
   "execution_count": 4,
   "id": "a39eb45d-6024-4dbb-bcd0-fdd11f87daa2",
   "metadata": {},
   "outputs": [
    {
     "data": {
      "text/plain": [
       "[1,\n",
       " 2,\n",
       " 3,\n",
       " 4,\n",
       " 5,\n",
       " 6,\n",
       " 7,\n",
       " 8,\n",
       " 9,\n",
       " 10,\n",
       " 11,\n",
       " 12,\n",
       " 13,\n",
       " 14,\n",
       " 15,\n",
       " 16,\n",
       " 17,\n",
       " 18,\n",
       " 19,\n",
       " 20,\n",
       " 21,\n",
       " 22,\n",
       " 23,\n",
       " 24,\n",
       " 25]"
      ]
     },
     "execution_count": 4,
     "metadata": {},
     "output_type": "execute_result"
    }
   ],
   "source": [
    "the_list = list(range(1,26))\n",
    "the_list"
   ]
  },
  {
   "cell_type": "code",
   "execution_count": 5,
   "id": "8dea70e9-0cbd-4dea-b709-b4c52b22f28d",
   "metadata": {},
   "outputs": [
    {
     "data": {
      "text/plain": [
       "15511210043330985984000000"
      ]
     },
     "execution_count": 5,
     "metadata": {},
     "output_type": "execute_result"
    }
   ],
   "source": [
    "from functools import reduce\n",
    "\n",
    "reduce(lambda x,y:x*y, the_list)\n",
    "    "
   ]
  },
  {
   "cell_type": "markdown",
   "id": "a36654a9-2d67-420b-be85-fa59b14e1d13",
   "metadata": {},
   "source": [
    "# QUESTION 5\n",
    "filter the numbers in given list which are divide by 2 and 3 "
   ]
  },
  {
   "cell_type": "code",
   "execution_count": 12,
   "id": "e3cf4b00-cffa-44b0-8113-24a1daacfff7",
   "metadata": {},
   "outputs": [
    {
     "data": {
      "text/plain": [
       "[6, 60, 90, 120]"
      ]
     },
     "execution_count": 12,
     "metadata": {},
     "output_type": "execute_result"
    }
   ],
   "source": [
    "the_list = [2, 3, 6, 9, 27, 60, 90, 120, 55, 46]\n",
    "\n",
    "list(filter(lambda x:x%6 == 0, the_list))"
   ]
  },
  {
   "cell_type": "markdown",
   "id": "946301e0-b46d-42f3-a920-73e7de65ab77",
   "metadata": {},
   "source": [
    "# QUESTION 6\n",
    "filter the pallindroms from the list by using filter method"
   ]
  },
  {
   "cell_type": "code",
   "execution_count": 18,
   "id": "4864e78b-4f8d-4d16-b6e9-93fa3e570c92",
   "metadata": {},
   "outputs": [
    {
     "data": {
      "text/plain": [
       "['php', 'aba', 'radar', 'level']"
      ]
     },
     "execution_count": 18,
     "metadata": {},
     "output_type": "execute_result"
    }
   ],
   "source": [
    "the_pallindrom = ['python', 'php', 'aba', 'radar', 'level']\n",
    "\n",
    "list(filter(lambda x:x[::-1] == x, the_pallindrom))"
   ]
  }
 ],
 "metadata": {
  "kernelspec": {
   "display_name": "Python 3 (ipykernel)",
   "language": "python",
   "name": "python3"
  },
  "language_info": {
   "codemirror_mode": {
    "name": "ipython",
    "version": 3
   },
   "file_extension": ".py",
   "mimetype": "text/x-python",
   "name": "python",
   "nbconvert_exporter": "python",
   "pygments_lexer": "ipython3",
   "version": "3.10.8"
  }
 },
 "nbformat": 4,
 "nbformat_minor": 5
}
