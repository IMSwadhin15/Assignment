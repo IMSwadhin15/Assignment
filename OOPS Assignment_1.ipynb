{
 "cells": [
  {
   "cell_type": "markdown",
   "id": "544411f0-39d9-499b-84c0-ed02307c835d",
   "metadata": {},
   "source": [
    "# QUESTION 1"
   ]
  },
  {
   "cell_type": "markdown",
   "id": "500e21f3-9f70-419c-9a31-18ccb2942c57",
   "metadata": {},
   "source": [
    "CLASS - class is a blue print for creating an object. It encapsulates attributes and methods that represents the charactersitcs and behaviour of an object.\n",
    "For Example, if CAR is a class, it has attributes like model, cost, making year.\n",
    "\n",
    "OBJECT - An object is an instance of a class. An object contains methods and properties that any data useful."
   ]
  },
  {
   "cell_type": "code",
   "execution_count": 1,
   "id": "2c0d692e-ffb2-4978-959f-25ea711a95dc",
   "metadata": {},
   "outputs": [
    {
     "name": "stdout",
     "output_type": "stream",
     "text": [
      "model:  suv\n",
      "manufactured year:  2020\n",
      "cost:  500000\n",
      "model:  x1\n",
      "manufactured year:  2019\n",
      "cost:  400000\n"
     ]
    }
   ],
   "source": [
    "# Example\n",
    "class car:\n",
    "    def __init__(self, model, year, cost):\n",
    "        \n",
    "        self.model = model\n",
    "        self.year = year\n",
    "        self.cost = cost\n",
    "        \n",
    "    def printData(self):\n",
    "        print('model: ',self.model)\n",
    "        print('manufactured year: ',self.year)\n",
    "        print('cost: ',self.cost)\n",
    "        \n",
    "car1 = car('suv',2020,500000)\n",
    "car2 = car('x1',2019,400000)\n",
    "\n",
    "car1.printData()\n",
    "car2.printData()"
   ]
  },
  {
   "cell_type": "markdown",
   "id": "dc4334ca-9c5f-468c-8310-d369a6d8bbfb",
   "metadata": {},
   "source": [
    "# QUESTION 2"
   ]
  },
  {
   "cell_type": "raw",
   "id": "09733fcb-80dd-4953-aeac-5c76b2fc4404",
   "metadata": {},
   "source": [
    "four pillars of oops\n",
    "\n",
    "1. Abstraction\n",
    "2. Encaspsulation\n",
    "3. Polymorphism\n",
    "4. Inheritance"
   ]
  },
  {
   "cell_type": "markdown",
   "id": "aaa6831e-e76d-49ed-bf63-9bdf0fd22606",
   "metadata": {},
   "source": [
    "# QUESTION 3"
   ]
  },
  {
   "cell_type": "raw",
   "id": "2aa9ac69-b69c-40df-a754-c31c9a856bce",
   "metadata": {},
   "source": [
    "self is used to access or manipulate methods and attributes of a specific instance of a class."
   ]
  },
  {
   "cell_type": "markdown",
   "id": "8fc739c3-a5b3-4687-8c35-6201318126ed",
   "metadata": {},
   "source": [
    "QUESTION 4"
   ]
  },
  {
   "cell_type": "raw",
   "id": "d494a31c-3263-4515-8cf6-d2f8ffacf24d",
   "metadata": {},
   "source": [
    "Inheritance is a key feature in OOPs. With the help of inheritance, a class which is called child class can have (or inherit) property of another class which is called parent class."
   ]
  },
  {
   "cell_type": "code",
   "execution_count": 2,
   "id": "69175f08-ed60-4dff-90ee-230e8514d78d",
   "metadata": {},
   "outputs": [
    {
     "name": "stdout",
     "output_type": "stream",
     "text": [
      "dutchman dog is available in black\n"
     ]
    }
   ],
   "source": [
    "# EXAMPLE OF SINGLE INHERITANCE\n",
    "\n",
    "\n",
    "class Animal:\n",
    "    def __init__(self,types):\n",
    "        self.types = types\n",
    "\n",
    "class Dog(Animal):\n",
    "    def dog_data(self,color):\n",
    "        self.color = color\n",
    "        print(f'{self.types} dog is available in {self.color}')\n",
    "              \n",
    "bhaw = Dog('dutchman')\n",
    "bhaw.dog_data('black')\n"
   ]
  },
  {
   "cell_type": "code",
   "execution_count": 10,
   "id": "55ee2125-4138-44eb-b496-2a6ea43ea7ff",
   "metadata": {},
   "outputs": [
    {
     "name": "stdout",
     "output_type": "stream",
     "text": [
      "german dog is available in black\n",
      "german dog is of black color\n"
     ]
    }
   ],
   "source": [
    "# MULTILEVEL INHERITANCE\n",
    "\n",
    "class pet_dog(Dog):\n",
    "    def pet_dog_data(self):\n",
    "        print(f'{self.types} dog is of {self.color} color')\n",
    "\n",
    "pet1 = pet_dog('german')\n",
    "pet1.dog_data('black')\n",
    "pet1.pet_dog_data()"
   ]
  },
  {
   "cell_type": "code",
   "execution_count": 20,
   "id": "136df7c1-d776-4ab9-b931-383418cc911f",
   "metadata": {},
   "outputs": [
    {
     "name": "stdout",
     "output_type": "stream",
     "text": [
      "This is first parent class\n",
      "This is second parent class\n"
     ]
    }
   ],
   "source": [
    "# MULTIPLE INHERITANCE\n",
    "\n",
    "class parent_1:\n",
    "    def show_1(self):\n",
    "        print('This is first parent class')\n",
    "        \n",
    "class parent_2:\n",
    "    def show_2(self):\n",
    "        print('This is second parent class')\n",
    "        \n",
    "class child_class(parent_1,parent_2):\n",
    "    pass\n",
    "\n",
    "object = child_class()\n",
    "object.show_1() # inherited from parent_1 class\n",
    "object.show_2() # inherited from parent_2 class"
   ]
  },
  {
   "cell_type": "code",
   "execution_count": null,
   "id": "94ceeadf-1271-40b8-98a5-b920e5f0d5fe",
   "metadata": {},
   "outputs": [],
   "source": []
  }
 ],
 "metadata": {
  "kernelspec": {
   "display_name": "Python 3 (ipykernel)",
   "language": "python",
   "name": "python3"
  },
  "language_info": {
   "codemirror_mode": {
    "name": "ipython",
    "version": 3
   },
   "file_extension": ".py",
   "mimetype": "text/x-python",
   "name": "python",
   "nbconvert_exporter": "python",
   "pygments_lexer": "ipython3",
   "version": "3.11.4"
  }
 },
 "nbformat": 4,
 "nbformat_minor": 5
}
